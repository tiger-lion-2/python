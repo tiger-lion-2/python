{
 "cells": [
  {
   "cell_type": "markdown",
   "id": "a75ab7cf",
   "metadata": {},
   "source": [
    "```python\n",
    "class 类名(): # 定义类\n",
    "{\n",
    "    def __init__(self,姓名,年龄):\n",
    "    # 添加实例属性\n",
    "        self.姓名 = 姓名\n",
    "        self.年龄 = 年龄\n",
    "    def 实例方法(self):\n",
    "        pass\n",
    "}\n",
    "\n",
    "对象名 = 类名()  # 创建对象\n",
    "对象名.实例方法()  # 实例化\n",
    "```\n",
    "\n",
    "#### 注：特征即属性就是变量，行为即方法就是函数\n",
    "`self` = 对象名\n",
    "\n",
    "\n",
    "###  `__str__()`,当使用print()输出对象的时候，默认打印对象的内存地址。如果类定义了该方法，那么就会打印在这个方法中的return 数据"
   ]
  },
  {
   "cell_type": "code",
   "execution_count": 16,
   "id": "abef1456",
   "metadata": {},
   "outputs": [],
   "source": [
    "class MoonBiscuit():# 月饼类\n",
    "    def __init__(self):\n",
    "    # 添加实例属性\n",
    "        # 焙烤的时间\n",
    "        self.time = 0\n",
    "        # 焙烤的状态\n",
    "        self.state = \"生的\"\n",
    "        # 放的调料\n",
    "        self.flavor = []\n",
    "        \n",
    "    def cake_time(self,time):\n",
    "        self.time += time\n",
    "        if(0 <= self.time < 3):\n",
    "            self.state = \"生的\"\n",
    "        elif(3 <= self.time < 5):\n",
    "            self.state = \"半生不熟\"\n",
    "        elif(5 <= self.time < 8):\n",
    "            self.state = \"熟了\"\n",
    "        else:\n",
    "            self.state = \"糊了\"\n",
    "    \n",
    "    def add_flavor(self,flavor):\n",
    "        self.flavor.extend(flavor)\n",
    "        \n",
    "    def __str__(self):\n",
    "        return f\"已经烤了{self.time}分钟，现在是{self.state}，加了{self.flavor}这些调料\""
   ]
  },
  {
   "cell_type": "code",
   "execution_count": 17,
   "id": "071c3da8",
   "metadata": {},
   "outputs": [
    {
     "name": "stdout",
     "output_type": "stream",
     "text": [
      "已经烤了2分钟，现在是生的，加了['蛋黄', '蛋液']这些调料\n"
     ]
    }
   ],
   "source": [
    "mo_bis = MoonBiscuit()\n",
    "mo_bis.cake_time(2)\n",
    "mo_bis.add_flavor([\"蛋黄\",\"蛋液\"])\n",
    "print(mo_bis)"
   ]
  },
  {
   "cell_type": "code",
   "execution_count": null,
   "id": "5e47a18f",
   "metadata": {},
   "outputs": [],
   "source": []
  }
 ],
 "metadata": {
  "kernelspec": {
   "display_name": "Python 3",
   "language": "python",
   "name": "python3"
  },
  "language_info": {
   "codemirror_mode": {
    "name": "ipython",
    "version": 3
   },
   "file_extension": ".py",
   "mimetype": "text/x-python",
   "name": "python",
   "nbconvert_exporter": "python",
   "pygments_lexer": "ipython3",
   "version": "3.6.3"
  }
 },
 "nbformat": 4,
 "nbformat_minor": 5
}
