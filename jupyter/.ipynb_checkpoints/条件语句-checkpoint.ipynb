{
 "cells": [
  {
   "cell_type": "markdown",
   "id": "4d88d07b",
   "metadata": {},
   "source": [
    "## if 条件：\n",
    "        - 条件成立执行的代码;条件不成立执行之后的代码"
   ]
  },
  {
   "cell_type": "code",
   "execution_count": 1,
   "id": "cdeccd15",
   "metadata": {},
   "outputs": [
    {
     "name": "stdout",
     "output_type": "stream",
     "text": [
      "请输入你的身高:175\n"
     ]
    }
   ],
   "source": [
    "tall = float(input(\"请输入你的身高:\"))"
   ]
  },
  {
   "cell_type": "code",
   "execution_count": 5,
   "id": "1d256a24",
   "metadata": {},
   "outputs": [
    {
     "name": "stdout",
     "output_type": "stream",
     "text": [
      "你的身高是175.0\n"
     ]
    }
   ],
   "source": [
    "if(tall > 170):\n",
    "    print(\"你的身高是{}\".format(tall))"
   ]
  },
  {
   "cell_type": "code",
   "execution_count": null,
   "id": "712bb408",
   "metadata": {},
   "outputs": [],
   "source": []
  }
 ],
 "metadata": {
  "kernelspec": {
   "display_name": "Python 3",
   "language": "python",
   "name": "python3"
  },
  "language_info": {
   "codemirror_mode": {
    "name": "ipython",
    "version": 3
   },
   "file_extension": ".py",
   "mimetype": "text/x-python",
   "name": "python",
   "nbconvert_exporter": "python",
   "pygments_lexer": "ipython3",
   "version": "3.6.3"
  }
 },
 "nbformat": 4,
 "nbformat_minor": 5
}
