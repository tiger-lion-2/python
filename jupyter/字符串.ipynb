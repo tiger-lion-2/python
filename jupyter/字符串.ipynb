{
 "cells": [
  {
   "cell_type": "markdown",
   "id": "c9a7993c",
   "metadata": {},
   "source": [
    "## 创建字符串和引号的区别\n",
    "    创建字符串时，可以使用单引号、双引号、三引号（三个连续的单引号或者双引号）"
   ]
  },
  {
   "cell_type": "code",
   "execution_count": 1,
   "id": "7956149d",
   "metadata": {},
   "outputs": [],
   "source": [
    "str1 = 'hello'\n",
    "str2 = \"hello\"\n",
    "str3 = '''hello'''\n",
    "str4 = \"\"\"hello\"\"\""
   ]
  },
  {
   "cell_type": "code",
   "execution_count": 3,
   "id": "478f61c9",
   "metadata": {},
   "outputs": [
    {
     "data": {
      "text/plain": [
       "'hello'"
      ]
     },
     "execution_count": 3,
     "metadata": {},
     "output_type": "execute_result"
    }
   ],
   "source": [
    "str1"
   ]
  },
  {
   "cell_type": "code",
   "execution_count": 4,
   "id": "8262edb2",
   "metadata": {},
   "outputs": [
    {
     "data": {
      "text/plain": [
       "'hello'"
      ]
     },
     "execution_count": 4,
     "metadata": {},
     "output_type": "execute_result"
    }
   ],
   "source": [
    "str2"
   ]
  },
  {
   "cell_type": "code",
   "execution_count": 5,
   "id": "3554b1ec",
   "metadata": {},
   "outputs": [
    {
     "data": {
      "text/plain": [
       "'hello'"
      ]
     },
     "execution_count": 5,
     "metadata": {},
     "output_type": "execute_result"
    }
   ],
   "source": [
    "str3"
   ]
  },
  {
   "cell_type": "code",
   "execution_count": 6,
   "id": "6e2b4977",
   "metadata": {},
   "outputs": [
    {
     "data": {
      "text/plain": [
       "'hello'"
      ]
     },
     "execution_count": 6,
     "metadata": {},
     "output_type": "execute_result"
    }
   ],
   "source": [
    "str4"
   ]
  },
  {
   "cell_type": "markdown",
   "id": "a69a90be",
   "metadata": {},
   "source": [
    "## 单引号中如果有单引号，需要加上转义字符\\，同样的双引号也是"
   ]
  },
  {
   "cell_type": "code",
   "execution_count": 7,
   "id": "187806b3",
   "metadata": {},
   "outputs": [],
   "source": [
    "str5 = 'It\\'s a book'  "
   ]
  },
  {
   "cell_type": "code",
   "execution_count": 8,
   "id": "89281515",
   "metadata": {},
   "outputs": [
    {
     "data": {
      "text/plain": [
       "\"It's a book\""
      ]
     },
     "execution_count": 8,
     "metadata": {},
     "output_type": "execute_result"
    }
   ],
   "source": [
    "str5"
   ]
  },
  {
   "cell_type": "code",
   "execution_count": 9,
   "id": "4cd3878f",
   "metadata": {},
   "outputs": [],
   "source": [
    "str6 = \"It's a book\""
   ]
  },
  {
   "cell_type": "code",
   "execution_count": 10,
   "id": "b3730427",
   "metadata": {},
   "outputs": [
    {
     "data": {
      "text/plain": [
       "\"It's a book\""
      ]
     },
     "execution_count": 10,
     "metadata": {},
     "output_type": "execute_result"
    }
   ],
   "source": [
    "str6"
   ]
  },
  {
   "cell_type": "code",
   "execution_count": 11,
   "id": "4fd9e50f",
   "metadata": {},
   "outputs": [
    {
     "ename": "SyntaxError",
     "evalue": "invalid syntax (<ipython-input-11-2f72b1f97f23>, line 1)",
     "output_type": "error",
     "traceback": [
      "\u001b[1;36m  File \u001b[1;32m\"<ipython-input-11-2f72b1f97f23>\"\u001b[1;36m, line \u001b[1;32m1\u001b[0m\n\u001b[1;33m    str7 = 'It's a book\u001b[0m\n\u001b[1;37m               ^\u001b[0m\n\u001b[1;31mSyntaxError\u001b[0m\u001b[1;31m:\u001b[0m invalid syntax\n"
     ]
    }
   ],
   "source": [
    "str7 = 'It's a book"
   ]
  },
  {
   "cell_type": "markdown",
   "id": "38366bf8",
   "metadata": {},
   "source": [
    "## 单引号或者双引号中的字符串如果分多行写，必须在每行结尾加上续行符“\\”"
   ]
  },
  {
   "cell_type": "code",
   "execution_count": 18,
   "id": "0a77aab7",
   "metadata": {},
   "outputs": [],
   "source": [
    "s1 = \"hello\\\n",
    "    world\""
   ]
  },
  {
   "cell_type": "code",
   "execution_count": 19,
   "id": "ecae64f3",
   "metadata": {},
   "outputs": [
    {
     "data": {
      "text/plain": [
       "'hello    world'"
      ]
     },
     "execution_count": 19,
     "metadata": {},
     "output_type": "execute_result"
    }
   ],
   "source": [
    "s1"
   ]
  },
  {
   "cell_type": "code",
   "execution_count": 32,
   "id": "74f70fc6",
   "metadata": {},
   "outputs": [],
   "source": [
    "s2 = \"你好\\n欢迎\""
   ]
  },
  {
   "cell_type": "code",
   "execution_count": 33,
   "id": "2c42e06d",
   "metadata": {},
   "outputs": [
    {
     "data": {
      "text/plain": [
       "'你好\\n欢迎'"
      ]
     },
     "execution_count": 33,
     "metadata": {},
     "output_type": "execute_result"
    }
   ],
   "source": [
    "s2"
   ]
  },
  {
   "cell_type": "code",
   "execution_count": 34,
   "id": "f246bf95",
   "metadata": {},
   "outputs": [],
   "source": [
    "s3 = \"\"\"\n",
    "    你好！\n",
    "    欢迎您！\n",
    "    祝旅途愉快！\n",
    "\"\"\""
   ]
  },
  {
   "cell_type": "code",
   "execution_count": 35,
   "id": "cd337afe",
   "metadata": {},
   "outputs": [
    {
     "data": {
      "text/plain": [
       "'\\n    你好！\\n    欢迎您！\\n    祝旅途愉快！\\n'"
      ]
     },
     "execution_count": 35,
     "metadata": {},
     "output_type": "execute_result"
    }
   ],
   "source": [
    "s3"
   ]
  },
  {
   "cell_type": "code",
   "execution_count": null,
   "id": "fec2c179",
   "metadata": {},
   "outputs": [],
   "source": []
  }
 ],
 "metadata": {
  "kernelspec": {
   "display_name": "Python 3",
   "language": "python",
   "name": "python3"
  },
  "language_info": {
   "codemirror_mode": {
    "name": "ipython",
    "version": 3
   },
   "file_extension": ".py",
   "mimetype": "text/x-python",
   "name": "python",
   "nbconvert_exporter": "python",
   "pygments_lexer": "ipython3",
   "version": "3.6.3"
  }
 },
 "nbformat": 4,
 "nbformat_minor": 5
}
