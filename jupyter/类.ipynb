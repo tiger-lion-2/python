{
 "cells": [
  {
   "cell_type": "markdown",
   "id": "4dc6052e",
   "metadata": {},
   "source": [
    "### 类的封装性\n",
    "    类的属性对应变量，类的方法对应函数。通过类，可以把数据和操作放在一起，使得程序结构更加清晰，这就是类的封装性"
   ]
  },
  {
   "cell_type": "code",
   "execution_count": 4,
   "id": "802e932b",
   "metadata": {},
   "outputs": [],
   "source": [
    "class Student:# 定义一个student类\n",
    "    pass  # 一个空语句，起到占位作用。表示类中没有任何属性和方法"
   ]
  },
  {
   "cell_type": "markdown",
   "id": "74bfeb21",
   "metadata": {},
   "source": [
    "#### 类属性的访问示例"
   ]
  },
  {
   "cell_type": "code",
   "execution_count": 8,
   "id": "54b956ed",
   "metadata": {},
   "outputs": [
    {
     "name": "stdout",
     "output_type": "stream",
     "text": [
      "输出： Unknown\n",
      "输出：stu1 Unknown, stu2 Unknown\n",
      "输出： 未知\n",
      "输出：stu1 未知, stu2 未知\n"
     ]
    }
   ],
   "source": [
    "class Student:\n",
    "    name = \"Unknown\"  #定义Student类中有一个name属性\n",
    "if __name__ == \"__main__\":\n",
    "    print(\"输出：\",Student.name)\n",
    "    stu1 = Student()  # 创建Student类对象1\n",
    "    stu2 = Student()  # 创建Student类对象2\n",
    "    print(\"输出：stu1 %s, stu2 %s\"%(stu1.name,stu2.name))\n",
    "    Student.name = '未知'  # 将Student类属性name改为未知\n",
    "    print(\"输出：\",Student.name)\n",
    "    print(\"输出：stu1 %s, stu2 %s\"%(stu1.name,stu2.name))"
   ]
  },
  {
   "cell_type": "markdown",
   "id": "ca954d2b",
   "metadata": {},
   "source": [
    "### 类中普通方法定义及调用\n",
    "    类的普通方法必须通过实例对象调用，不能通过类名直接调用"
   ]
  },
  {
   "cell_type": "code",
   "execution_count": 10,
   "id": "0eff55f4",
   "metadata": {},
   "outputs": [
    {
     "name": "stdout",
     "output_type": "stream",
     "text": [
      "姓名:张三\n",
      "姓名:李四\n"
     ]
    }
   ],
   "source": [
    "class Student:\n",
    "    name = \"Uknown\"\n",
    "    \n",
    "    def SetName(self,newname):   #self就是对象本身\n",
    "        self.name = newname\n",
    "    \n",
    "    def PrintName(self):\n",
    "        print(\"姓名:%s\"%self.name)\n",
    "        \n",
    "if __name__ == \"__main__\":\n",
    "    stu1 = Student()\n",
    "    stu2 = Student()\n",
    "    stu1.SetName(\"张三\")\n",
    "    stu2.SetName(\"李四\")\n",
    "    stu1.PrintName()\n",
    "    stu2.PrintName()"
   ]
  },
  {
   "cell_type": "markdown",
   "id": "dce8cd02",
   "metadata": {},
   "source": [
    "#### 私有属性\n",
    "    指在类内可以直接访问，在类外无法直接访问的属性\n",
    "    在python中规定，在定义类时，如果一个类属性是以__（两个下划线开头）,则该类属性为私有属性"
   ]
  },
  {
   "cell_type": "code",
   "execution_count": 13,
   "id": "f79716ef",
   "metadata": {},
   "outputs": [
    {
     "name": "stdout",
     "output_type": "stream",
     "text": [
      "姓名：张三,身份证号：1234567XXXXX\n"
     ]
    }
   ],
   "source": [
    "class Student:\n",
    "    name = \"未知\"\n",
    "    __id = \"未知\"   # 定义一个私有属性\n",
    "    \n",
    "    def SetInfo(self,newname,newid):\n",
    "        self.name = newname\n",
    "        self.__id = newid\n",
    "        \n",
    "    def PrintInfo(self):\n",
    "        print(\"姓名：%s,身份证号：%s\"%(self.name,self.__id))\n",
    "        \n",
    "        \n",
    "if __name__ == \"__main__\":\n",
    "    stu = Student()\n",
    "    stu.SetInfo(\"张三\",\"1234567XXXXX\")\n",
    "    stu.PrintInfo()"
   ]
  },
  {
   "cell_type": "code",
   "execution_count": 14,
   "id": "0d369892",
   "metadata": {},
   "outputs": [
    {
     "name": "stdout",
     "output_type": "stream",
     "text": [
      "张三\n"
     ]
    }
   ],
   "source": [
    "print(stu.name)"
   ]
  },
  {
   "cell_type": "code",
   "execution_count": 16,
   "id": "04584c4e",
   "metadata": {},
   "outputs": [
    {
     "ename": "AttributeError",
     "evalue": "'Student' object has no attribute '__id'",
     "output_type": "error",
     "traceback": [
      "\u001b[1;31m---------------------------------------------------------------------------\u001b[0m",
      "\u001b[1;31mAttributeError\u001b[0m                            Traceback (most recent call last)",
      "\u001b[1;32m<ipython-input-16-648d9a19b549>\u001b[0m in \u001b[0;36m<module>\u001b[1;34m\u001b[0m\n\u001b[1;32m----> 1\u001b[1;33m \u001b[0mprint\u001b[0m\u001b[1;33m(\u001b[0m\u001b[0mstu\u001b[0m\u001b[1;33m.\u001b[0m\u001b[0m__id\u001b[0m\u001b[1;33m)\u001b[0m\u001b[1;33m\u001b[0m\u001b[0m\n\u001b[0m",
      "\u001b[1;31mAttributeError\u001b[0m: 'Student' object has no attribute '__id'"
     ]
    }
   ],
   "source": [
    "print(stu.__id)  # 无法访问私有属性"
   ]
  },
  {
   "cell_type": "markdown",
   "id": "f9440886",
   "metadata": {},
   "source": [
    "#### 实际上，在python中不存在无法访问的私有属性。如果在类中定义了一个私有属性，在类外访问该私有属性需要在私有属性前面加上“_类名”"
   ]
  },
  {
   "cell_type": "code",
   "execution_count": 19,
   "id": "4b54c96a",
   "metadata": {},
   "outputs": [
    {
     "name": "stdout",
     "output_type": "stream",
     "text": [
      "1234567XXXXX\n"
     ]
    }
   ],
   "source": [
    "print(stu._Student__id)"
   ]
  },
  {
   "cell_type": "markdown",
   "id": "067e58dc",
   "metadata": {},
   "source": [
    "### 构造方法\n",
    "    构造方法是Python类中的内置方法之一，它的方法名是__init__，在创建一个类对象时自动执行，负责完成新创建对象的初始化工作"
   ]
  },
  {
   "cell_type": "code",
   "execution_count": 20,
   "id": "7187c3d8",
   "metadata": {},
   "outputs": [
    {
     "name": "stdout",
     "output_type": "stream",
     "text": [
      "构造方法被调用\n",
      "姓名：Unknown\n"
     ]
    }
   ],
   "source": [
    "class Student:\n",
    "    def __init__(self):\n",
    "        print(\"构造方法被调用\")\n",
    "        self.name = \"Unknown\"\n",
    "        \n",
    "    def PrintInfo(self):\n",
    "        print(\"姓名：%s\"%self.name)\n",
    "        \n",
    "if __name__ == \"__main__\":\n",
    "    stu = Student()  # 创建Student类对象stu，自动执行构造方法\n",
    "    stu.PrintInfo()"
   ]
  },
  {
   "cell_type": "markdown",
   "id": "40fc8565",
   "metadata": {},
   "source": [
    "### 析构方法：\n",
    "    析构方法是类的另一个内置方法，它的方法名为__del__，在销毁一个类对象时会自动执行，负责完成待销毁对象的资源清理工作，如关闭文件等\n",
    "    类对象销毁有以下三种情况：\n",
    "        1、局部变量作用域结束\n",
    "        2、使用del删除对象\n",
    "        3、程序结束时，程序中的所有对象都将被销毁"
   ]
  },
  {
   "cell_type": "code",
   "execution_count": 22,
   "id": "fd736910",
   "metadata": {},
   "outputs": [
    {
     "name": "stdout",
     "output_type": "stream",
     "text": [
      "姓名为张三的对象被创建！\n",
      "姓名为李四的对象被创建！\n",
      "姓名为王五的对象被创建！\n",
      "姓名为王五的对象被销毁！\n",
      "姓名为李四的对象被销毁！\n",
      "姓名为马六的对象被创建！\n"
     ]
    }
   ],
   "source": [
    "class Student:\n",
    "    def __init__(self,name):\n",
    "        self.name = name\n",
    "        print(\"姓名为%s的对象被创建！\"%self.name)\n",
    "    def __del__(self):\n",
    "        print(\"姓名为%s的对象被销毁！\"%self.name)\n",
    "        \n",
    "def func(name):\n",
    "    stu = Student(name)\n",
    "    \n",
    "if __name__ == '__main__':\n",
    "    stu1 = Student(\"张三\")\n",
    "    stu2 = Student(\"李四\")\n",
    "    stu3 = stu2\n",
    "    del stu2    # 使用del删除stu2对象\n",
    "    func(\"王五\")\n",
    "#如果多个变量对应同一片内存空间，则只有这些变量都删除后才会销毁这些内存空间中所保存的对象，也才会自动执行析构方法\n",
    "    del stu3\n",
    "    stu4 = Student(\"马六\")"
   ]
  },
  {
   "cell_type": "markdown",
   "id": "c0159a06",
   "metadata": {},
   "source": [
    "### 常用内置函数：\n",
    "    __str__方法：\n",
    "        调用str函数对类对象进行处理时或者调用python内置函数format()和print()时自动执行，__str__方法返回值必须是字符串"
   ]
  },
  {
   "cell_type": "code",
   "execution_count": 27,
   "id": "c6d716f0",
   "metadata": {},
   "outputs": [
    {
     "name": "stdout",
     "output_type": "stream",
     "text": [
      "3.2+5.3i\n"
     ]
    }
   ],
   "source": [
    "class Complex:\n",
    "    def __init__(self,real,image):\n",
    "        self.real = real\n",
    "        self.image = image\n",
    "        \n",
    "    def __str__(self):\n",
    "        return str(self.real)+'+'+str(self.image)+'i'\n",
    "    \n",
    "if __name__ == \"__main__\":\n",
    "    c = Complex(3.2,5.3)\n",
    "    print(c)"
   ]
  },
  {
   "cell_type": "code",
   "execution_count": 25,
   "id": "54b5f2e2",
   "metadata": {},
   "outputs": [
    {
     "data": {
      "text/plain": [
       "__main__.Complex"
      ]
     },
     "execution_count": 25,
     "metadata": {},
     "output_type": "execute_result"
    }
   ],
   "source": [
    "type(c)"
   ]
  },
  {
   "cell_type": "code",
   "execution_count": 34,
   "id": "66a2ed31",
   "metadata": {},
   "outputs": [
    {
     "name": "stdout",
     "output_type": "stream",
     "text": [
      "1+1i\n"
     ]
    }
   ],
   "source": [
    "class Com:\n",
    "    def __init__(self,real,image):\n",
    "        self.real = real\n",
    "        self.image = image\n",
    "        \n",
    "    def __str__(self):\n",
    "        # +有字符串连接作用，也有整形数相加作用，如果不强转化成str类型，则会报错为int类型和'+'(str)型相加\n",
    "        return str(1)+'+'+str(1)+'i'\n",
    "    \n",
    "c1 = Com(4,5)\n",
    "print(c1)"
   ]
  },
  {
   "cell_type": "markdown",
   "id": "19474057",
   "metadata": {},
   "source": [
    "# 类的继承性\n",
    "    1、允许开发者基于已有的类创建新的类\n",
    "    2、如果一个类C1通过继承已有类C而创建，则将C1称作子类（sub class），将C称作基类、超类或父类（base,super）\n",
    "    3、子类会继承父类中定义的所有属性和方法，另外也能在子类中增加新的属性和方法\n",
    "    4、如果一个子类只有一个父类，则将这种继承关系称为单继承，如果一个子类有两个或更过父类，则将这种继承关系称为多重继承。\n",
    "    \n",
    "# 子类的定义：\n",
    "    class 子类名(父类名1，父类名2，...):\n",
    "        语句"
   ]
  },
  {
   "cell_type": "code",
   "execution_count": 4,
   "id": "d8637985",
   "metadata": {},
   "outputs": [
    {
     "name": "stdout",
     "output_type": "stream",
     "text": [
      "学号：1234,姓名：张三\n"
     ]
    }
   ],
   "source": [
    "class Person:\n",
    "    def SetName(self,name):\n",
    "        self.name = name\n",
    "        \n",
    "class Student(Person):\n",
    "    def SetSno(self,sno):\n",
    "        self.sno = sno\n",
    "        \n",
    "class Teacher(Person):\n",
    "    def SetTno(self,tno):\n",
    "        self.tno = tno\n",
    "        \n",
    "class Ta(Student,Teacher):\n",
    "    def SetTeacher(self,teacher):\n",
    "        self.teacher = teacher\n",
    "        \n",
    "if __name__ == \"__main__\":\n",
    "    stu = Student()\n",
    "    stu.SetSno('1234')\n",
    "    stu.SetName(\"张三\")\n",
    "    print(\"学号：%s,姓名：%s\"%(stu.sno,stu.name))"
   ]
  },
  {
   "cell_type": "markdown",
   "id": "4ffb2d19",
   "metadata": {},
   "source": [
    "# 方法重写：\n",
    "    子类可以对从父类中继承过来的方法进行重新定义，从而使得子类对象表现出与父类对象不同的行为"
   ]
  },
  {
   "cell_type": "code",
   "execution_count": 9,
   "id": "730bf668",
   "metadata": {},
   "outputs": [
    {
     "name": "stdout",
     "output_type": "stream",
     "text": [
      "姓名：李四\n",
      "姓名：张三,学号：123\n",
      "PrintPersonInfo函数中的输出结果#姓名：李四\n",
      "PrintPersonInfo函数中的输出结果#姓名：张三,学号：123\n"
     ]
    }
   ],
   "source": [
    "class Person:\n",
    "    def __init__(self,name):\n",
    "        self.name = name\n",
    "        \n",
    "    def PrintInfo(self):\n",
    "        print(\"姓名：%s\"%self.name)\n",
    "        \n",
    "class Student(Person):\n",
    "    def __init__(self,sno,name):\n",
    "        self.sno = sno\n",
    "        self.name = name\n",
    "        \n",
    "    def PrintInfo(self):\n",
    "        print(\"姓名：%s,学号：%s\"%(self.name,self.sno))\n",
    "        \n",
    "def PrintPersonInfo(person):\n",
    "    print(\"PrintPersonInfo函数中的输出结果\",end='#')\n",
    "    person.PrintInfo()\n",
    "    \n",
    "if __name__ == '__main__':\n",
    "    p = Person(\"李四\")\n",
    "    stu = Student(\"123\",\"张三\")\n",
    "    p.PrintInfo()\n",
    "    stu.PrintInfo()\n",
    "    PrintPersonInfo(p)\n",
    "    PrintPersonInfo(stu)\n",
    "    \n",
    "# 这里涉及多态概念：指在执行同样代码的情况下，系统会根据对象实际所属的类去调用相应类中的方法"
   ]
  },
  {
   "cell_type": "markdown",
   "id": "6d452ca0",
   "metadata": {},
   "source": [
    "# 鸭子类型：\n",
    "    在鸭子类型中，关注的不是对象所属的类，而是一个对象能够如何使用。"
   ]
  },
  {
   "cell_type": "code",
   "execution_count": 10,
   "id": "01dcfbcc",
   "metadata": {},
   "outputs": [
    {
     "name": "stdout",
     "output_type": "stream",
     "text": [
      "Person类中的CaptureImage被调用\n",
      "Camera类中的CaptureImage被调用\n"
     ]
    }
   ],
   "source": [
    "class Person:\n",
    "    def CaptureImage(self):\n",
    "        print(\"Person类中的CaptureImage被调用\")\n",
    "        \n",
    "class Camera:\n",
    "    def CaptureImage(self):\n",
    "        print(\"Camera类中的CaptureImage被调用\")\n",
    "        \n",
    "def CaptureImageTest(arg):\n",
    "    arg.CaptureImage()\n",
    "    \n",
    "    \n",
    "if __name__ == '__main__':\n",
    "    p = Person()\n",
    "    c = Camera()\n",
    "    CaptureImageTest(p)\n",
    "    CaptureImageTest(c)"
   ]
  },
  {
   "cell_type": "code",
   "execution_count": null,
   "id": "567505ea",
   "metadata": {},
   "outputs": [],
   "source": []
  }
 ],
 "metadata": {
  "kernelspec": {
   "display_name": "Python 3",
   "language": "python",
   "name": "python3"
  },
  "language_info": {
   "codemirror_mode": {
    "name": "ipython",
    "version": 3
   },
   "file_extension": ".py",
   "mimetype": "text/x-python",
   "name": "python",
   "nbconvert_exporter": "python",
   "pygments_lexer": "ipython3",
   "version": "3.6.3"
  }
 },
 "nbformat": 4,
 "nbformat_minor": 5
}
